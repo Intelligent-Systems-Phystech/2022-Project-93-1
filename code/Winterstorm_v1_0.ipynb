{
  "nbformat": 4,
  "nbformat_minor": 0,
  "metadata": {
    "colab": {
      "name": "Winterstorm v1.1.ipynb",
      "provenance": [],
      "collapsed_sections": []
    },
    "kernelspec": {
      "name": "python3",
      "display_name": "Python 3"
    },
    "language_info": {
      "name": "python"
    },
    "accelerator": "GPU"
  },
  "cells": [
    {
      "cell_type": "markdown",
      "source": [
        "#Import libraries and settings"
      ],
      "metadata": {
        "id": "X7Ce3HKDcsDk"
      }
    },
    {
      "cell_type": "code",
      "metadata": {
        "id": "I-0kqrJPysQ3"
      },
      "source": [
        "import sys\n",
        "import os\n",
        "sys.path.append('/content/drive/MyDrive/') # location of src folder at you google drive\n",
        "from scipy import signal\n",
        "import numpy as np\n",
        "from matplotlib import pyplot as plt\n",
        "import pandas"
      ],
      "execution_count": null,
      "outputs": []
    },
    {
      "cell_type": "code",
      "source": [
        "from tqdm import tqdm"
      ],
      "metadata": {
        "id": "Fm7rQledjdVY"
      },
      "execution_count": null,
      "outputs": []
    },
    {
      "cell_type": "code",
      "source": [
        "import torch\n",
        "import torchvision\n",
        "import numpy as np\n",
        "import pandas as pd\n",
        "import matplotlib.pyplot as plt\n",
        "import torch.nn as nn\n",
        "import torch.nn.functional as F\n",
        "from torch.utils.data import Dataset, DataLoader\n",
        "from torch.autograd import Variable\n",
        "from tqdm import tqdm\n",
        "from PIL import Image\n",
        "\n",
        "from typing import Tuple, List, Type, Dict, Any"
      ],
      "metadata": {
        "id": "3bUGmFBUq33_"
      },
      "execution_count": null,
      "outputs": []
    },
    {
      "cell_type": "code",
      "source": [
        "from matplotlib import pylab as plt\n",
        "plt.rcParams['font.family'] = 'DejaVu Serif'\n",
        "plt.rcParams['lines.linewidth'] = 2\n",
        "plt.rcParams['lines.markersize'] = 12\n",
        "plt.rcParams['xtick.labelsize'] = 24\n",
        "plt.rcParams['ytick.labelsize'] = 24\n",
        "plt.rcParams['legend.fontsize'] = 24\n",
        "plt.rcParams['axes.titlesize'] = 28\n",
        "plt.rcParams['axes.labelsize'] = 24"
      ],
      "metadata": {
        "id": "3mmoYKjmiMLd"
      },
      "execution_count": null,
      "outputs": []
    },
    {
      "cell_type": "code",
      "source": [
        "DEVICE = torch.device(\"cuda\" if torch.cuda.is_available() else \"cpu\")"
      ],
      "metadata": {
        "id": "1G_dMES_5fwz"
      },
      "execution_count": null,
      "outputs": []
    },
    {
      "cell_type": "code",
      "source": [
        "#Mount drive\n",
        "#from google.colab import drive\n",
        "#drive.mount('/content/drive')"
      ],
      "metadata": {
        "id": "KOZllAkYOjXc"
      },
      "execution_count": null,
      "outputs": []
    },
    {
      "cell_type": "markdown",
      "metadata": {
        "id": "MEFBmkrLdpOA"
      },
      "source": [
        "#Building model "
      ]
    },
    {
      "cell_type": "code",
      "source": [
        "def init_weights(m):\n",
        "    if type(m) == nn.Linear:\n",
        "        torch.nn.init.xavier_uniform(m.weight)\n",
        "        m.bias.data.fill_(0.1)"
      ],
      "metadata": {
        "id": "DkWcLhj7pn9a"
      },
      "execution_count": null,
      "outputs": []
    },
    {
      "cell_type": "code",
      "source": [
        "class L(nn.Module):\n",
        "    def __init__(self,  input_size, hidden_size, num_layers,output_size):\n",
        "        super(L, self).__init__()\n",
        "      \n",
        "        self.num_layers = num_layers #number of layers\n",
        "        self.input_size = input_size #input size\n",
        "        self.output_size = output_size\n",
        "        self.hidden_size = hidden_size #hidden state\n",
        "        \n",
        "        self.conv = nn.Sequential(\n",
        "            torch.nn.Conv2d(1, 4, 2),\n",
        "            nn.ReLU(),\n",
        "            torch.nn.Conv2d(4, 8, 2, 3),\n",
        "            nn.ReLU(),\n",
        "            torch.nn.Conv2d(8, 16, 2, stride = 2, padding  = 1),\n",
        "            nn.ReLU(),\n",
        "        )\n",
        "        \n",
        "\n",
        "\n",
        "        self.lstm = nn.LSTM(input_size=input_size, hidden_size=hidden_size,\n",
        "                          num_layers=num_layers, batch_first=True) #lstm\n",
        "        \n",
        "        \n",
        "        self.up_conv =   nn.Sequential(\n",
        "                                            nn.Upsample(scale_factor=(2,2), mode='bilinear'),\n",
        "                                            nn.ConvTranspose2d(1,4,3, padding = 1, stride= 1),\n",
        "                                           \n",
        "                                            nn.ReLU(),\n",
        "                                            nn.Upsample(scale_factor=(2,2), mode='bilinear'),\n",
        "                                            nn.ConvTranspose2d(4,8,3, padding = 1, stride= 1),\n",
        "                                           \n",
        "                                            nn.ReLU(),\n",
        "                                            nn.Upsample(size=(24,64), mode='bilinear'),\n",
        "                                            nn.ConvTranspose2d(8,self.output_size,3, padding = 1, stride= 1),\n",
        "                                            \n",
        "        )\n",
        "\n",
        "    \n",
        "    def forward(self,x):\n",
        "        h_0 = Variable(torch.zeros(self.num_layers, x.size(0), self.hidden_size)).to(DEVICE) #hidden state\n",
        "        c_0 = Variable(torch.zeros(self.num_layers, x.size(0), self.hidden_size)).to(DEVICE) #internal state\n",
        "        # Propagate input through LSTM\n",
        "        batch_size = x.shape[0]\n",
        "        x = torch.reshape(x, (x.shape[0]*x.shape[1],1 , *x.shape[2:]))\n",
        "     \n",
        "        x = self.conv(x)\n",
        "\n",
        "        x = torch.reshape(x, (batch_size, int(x.shape[0]/batch_size), *x.shape[1:]))\n",
        "        x = torch.flatten(x,start_dim= 2)\n",
        "\n",
        "        x, (hn, cn) = self.lstm(x, (h_0, c_0)) #lstm with input, hidden, and internal state\n",
        "        x = hn[-1].view(-1, self.hidden_size) \n",
        "       \n",
        "        x = torch.reshape(x, (x.shape[0], 1 , int(np.sqrt(self.hidden_size)), int(np.sqrt(self.hidden_size)) ))\n",
        "      \n",
        "        x = self.up_conv(x)\n",
        "        x = torch.reshape(x, (batch_size, *x.shape[1:]))\n",
        "      \n",
        "        return x"
      ],
      "metadata": {
        "id": "MqbGCJaIpsgm"
      },
      "execution_count": null,
      "outputs": []
    },
    {
      "cell_type": "code",
      "source": [
        "def train_single_epoch(model: torch.nn.Module,\n",
        "                       optimizer: torch.optim.Optimizer, \n",
        "                       loss_function: torch.nn.Module, \n",
        "                       data_loader: torch.utils.data.DataLoader):\n",
        "    \n",
        "    model.train()\n",
        "    train_loss = 0.0\n",
        "    for data in data_loader:\n",
        "        x,y = data\n",
        "    \n",
        "        optimizer.zero_grad() \n",
        "        x = x.to(DEVICE)\n",
        "  \n",
        "        y = y.to(DEVICE)\n",
        "        \n",
        "        \n",
        "        y_pred = model(x)\n",
        "        loss = loss_function(y_pred,y)\n",
        "              \n",
        "        loss.backward()\n",
        "        optimizer.step()\n",
        "        train_loss += loss.item()\n",
        "    return {\n",
        "        'loss': train_loss / len(data_loader.dataset)\n",
        "    }"
      ],
      "metadata": {
        "id": "md8gbVHXpwEI"
      },
      "execution_count": null,
      "outputs": []
    },
    {
      "cell_type": "code",
      "source": [
        "def validate_single_epoch(model: torch.nn.Module,\n",
        "                          loss_function: torch.nn.Module, \n",
        "                          data_loader: torch.utils.data.DataLoader):\n",
        "    \n",
        "    model.eval()\n",
        "    test_loss = 0.0\n",
        "    \n",
        "    for data in data_loader:\n",
        "        x,y = data\n",
        "        with torch.no_grad():\n",
        "            x = x.to(DEVICE)\n",
        "            \n",
        "            y = y.to(DEVICE)\n",
        "\n",
        "            y_pred = model(x)\n",
        "            \n",
        "            loss = loss_function(y_pred, y)\n",
        "            test_loss += loss.item()\n",
        "    \n",
        "    return {\n",
        "        'loss': test_loss / len(data_loader.dataset)\n",
        "    }"
      ],
      "metadata": {
        "id": "kYEA1WzDIuiG"
      },
      "execution_count": null,
      "outputs": []
    },
    {
      "cell_type": "code",
      "source": [
        "def train_model(model: torch.nn.Module, \n",
        "                train_dataset: torch.utils.data.Dataset,\n",
        "                val_dataset: torch.utils.data.Dataset,\n",
        "                errors,\n",
        "                loss_function: torch.nn.Module = torch.nn.MSELoss(),\n",
        "                optimizer_class: Type[torch.optim.Optimizer] = torch.optim.Adam,\n",
        "                optimizer_params: Dict = {},\n",
        "                lr_scheduler_class: Any = torch.optim.lr_scheduler.StepLR,\n",
        "                lr_scheduler_params: Dict = {'gamma' : 0.5, 'step_size': 50 },\n",
        "                batch_size = 16,\n",
        "                max_epochs = 1000,\n",
        "                early_stopping_patience = 100,\n",
        "                initial_lr = 1e-5\n",
        "):\n",
        "    optimizer = optimizer_class(model.parameters(), lr=initial_lr, **optimizer_params)\n",
        "    lr_scheduler = lr_scheduler_class(optimizer, **lr_scheduler_params)\n",
        "    \n",
        "    train_loader = torch.utils.data.DataLoader(train_dataset, shuffle=True, batch_size=batch_size)\n",
        "    val_loader = torch.utils.data.DataLoader(val_dataset, batch_size=batch_size)\n",
        "\n",
        "    best_val_loss = None\n",
        "    best_epoch = None\n",
        "    \n",
        "    for epoch in range(max_epochs):\n",
        "        print(f'Epoch {epoch+1} of {max_epochs}')\n",
        "        train_metrics = train_single_epoch(model, optimizer, loss_function, train_loader)\n",
        "        val_metrics = validate_single_epoch(model, loss_function, val_loader)\n",
        "        errors['test'].append(val_metrics['loss'])\n",
        "        errors['train'].append(train_metrics['loss'])\n",
        "        print(f'Validation metrics: \\n{val_metrics}')\n",
        "        \n",
        "        lr_scheduler.step(val_metrics['loss'])\n",
        "        \n",
        "        if best_val_loss is None or best_val_loss > val_metrics['loss'] or epoch % 100 == 0:\n",
        "            print(f'Best model yet, saving')\n",
        "            best_val_loss = val_metrics['loss']\n",
        "           \n",
        "            best_epoch = epoch\n",
        "            torch.save(model, './best_model.pth')\n",
        "            torch.save(model,'/content/drive/MyDrive/Colab Notebooks/storm_best.pth')\n",
        "            \n",
        "        if epoch - best_epoch > early_stopping_patience:\n",
        "            print('Early stopping triggered')\n",
        "            return"
      ],
      "metadata": {
        "id": "lxzHWpdOI1fq"
      },
      "execution_count": null,
      "outputs": []
    },
    {
      "cell_type": "code",
      "source": [
        "def multivariate_data(dataset, target, start_index, end_index, history_size,\n",
        "                      target_size, step, single_step=False):\n",
        "  data = []\n",
        "  labels = []\n",
        "\n",
        "  start_index = start_index + history_size\n",
        "  if end_index is None:\n",
        "    end_index = len(dataset) - target_size\n",
        "\n",
        "  for i in range(start_index, end_index,step):\n",
        "    indices = range(i-history_size, i)\n",
        "    data.append(dataset[indices])\n",
        "\n",
        "    if single_step:\n",
        "      labels.append(target[i+target_size])\n",
        "    else:\n",
        "      labels.append(target[i:i+target_size])\n",
        "\n",
        "  return np.squeeze(np.array(data)), np.squeeze(np.array(labels))"
      ],
      "metadata": {
        "id": "lAcmkxdCJ2I0"
      },
      "execution_count": null,
      "outputs": []
    },
    {
      "cell_type": "code",
      "source": [
        "class DS(Dataset):\n",
        "    def __init__(self, data,labels, transform=None):\n",
        "        self.data = torch.Tensor(data)\n",
        "        self.labels = torch.Tensor(labels)\n",
        "        self.transform = transform\n",
        "\n",
        "    def __getitem__(self, index):\n",
        "\n",
        "        x = self.data[index]\n",
        "        y = self.labels[index]\n",
        "\n",
        "    \n",
        "\n",
        "        return x,y\n",
        "\n",
        "    def __len__(self):\n",
        "        return len(self.data)"
      ],
      "metadata": {
        "id": "6qOtlux0Lvip"
      },
      "execution_count": null,
      "outputs": []
    },
    {
      "cell_type": "markdown",
      "source": [
        "Dataset is daily maximum precipitation on USA territory from 2015.02.01 to 2018.02.01\n",
        "\n",
        "Grid size is approximatelly 11 km"
      ],
      "metadata": {
        "id": "jjn7daJPqjwQ"
      }
    },
    {
      "cell_type": "code",
      "source": [
        "!wget  https://raw.githubusercontent.com/Intelligent-Systems-Phystech/2022-Project-93-1/master/data/USA_Water_dataset.npy"
      ],
      "metadata": {
        "colab": {
          "base_uri": "https://localhost:8080/"
        },
        "id": "Rv1PviY2xos7",
        "outputId": "1600b6bf-5db6-4683-ee3f-757e3ceaacce"
      },
      "execution_count": null,
      "outputs": [
        {
          "output_type": "stream",
          "name": "stdout",
          "text": [
            "--2022-03-09 00:02:07--  https://raw.githubusercontent.com/Intelligent-Systems-Phystech/2022-Project-93-1/master/data/USA_Water_dataset.npy\n",
            "Resolving raw.githubusercontent.com (raw.githubusercontent.com)... 185.199.108.133, 185.199.109.133, 185.199.110.133, ...\n",
            "Connecting to raw.githubusercontent.com (raw.githubusercontent.com)|185.199.108.133|:443... connected.\n",
            "HTTP request sent, awaiting response... 200 OK\n",
            "Length: 13713536 (13M) [application/octet-stream]\n",
            "Saving to: ‘USA_Water_dataset.npy’\n",
            "\n",
            "USA_Water_dataset.n 100%[===================>]  13.08M  --.-KB/s    in 0.1s    \n",
            "\n",
            "2022-03-09 00:02:08 (99.2 MB/s) - ‘USA_Water_dataset.npy’ saved [13713536/13713536]\n",
            "\n"
          ]
        }
      ]
    },
    {
      "cell_type": "code",
      "source": [
        "np_dataset = np.load('USA_Water_dataset.npy')"
      ],
      "metadata": {
        "id": "2PFbhrdnKh34"
      },
      "execution_count": null,
      "outputs": []
    },
    {
      "cell_type": "code",
      "source": [
        "np_dataset.shape"
      ],
      "metadata": {
        "colab": {
          "base_uri": "https://localhost:8080/"
        },
        "id": "RIcYx3oFNn3M",
        "outputId": "d84d3530-4703-4c23-ee95-e9eccadf274b"
      },
      "execution_count": null,
      "outputs": [
        {
          "output_type": "execute_result",
          "data": {
            "text/plain": [
              "(1116, 24, 64)"
            ]
          },
          "metadata": {},
          "execution_count": 18
        }
      ]
    },
    {
      "cell_type": "code",
      "source": [
        "TRAIN_SIZE = 20\n",
        "PREDICT_SIZE  = 5"
      ],
      "metadata": {
        "id": "PaS1GZvkL4R4"
      },
      "execution_count": null,
      "outputs": []
    },
    {
      "cell_type": "code",
      "source": [
        "X_train, y_train= multivariate_data(np_dataset, np_dataset, start_index = 0, end_index = 1000, history_size = TRAIN_SIZE, target_size = PREDICT_SIZE, step = 1)\n",
        "X_test, y_test= multivariate_data(np_dataset, np_dataset, start_index = 801, end_index = 1100, history_size = TRAIN_SIZE, target_size = PREDICT_SIZE, step = 1)"
      ],
      "metadata": {
        "id": "3CHtRKIJJ3la"
      },
      "execution_count": null,
      "outputs": []
    },
    {
      "cell_type": "code",
      "source": [
        "dataset_train = DS(X_train,y_train)\n",
        "dataset_test = DS(X_test,y_test)"
      ],
      "metadata": {
        "id": "dKIXx8MDNEpl"
      },
      "execution_count": null,
      "outputs": []
    },
    {
      "cell_type": "code",
      "source": [
        "model  = L(880,64,3,PREDICT_SIZE).to(DEVICE)"
      ],
      "metadata": {
        "id": "cTxkrX977OTt"
      },
      "execution_count": null,
      "outputs": []
    },
    {
      "cell_type": "code",
      "source": [
        "#train model, uncomment \n",
        "#errors = {'test' : [], 'train': []}\n",
        "#train_model(model, dataset_train,dataset_test, errors, initial_lr  = 1e-3, batch_size =16 )"
      ],
      "metadata": {
        "id": "NJ1yO39tNPRX"
      },
      "execution_count": null,
      "outputs": []
    },
    {
      "cell_type": "code",
      "source": [
        "!wget https://raw.githubusercontent.com/Intelligent-Systems-Phystech/2022-Project-93-1/master/data/LSTM_CNN%20model.pth"
      ],
      "metadata": {
        "colab": {
          "base_uri": "https://localhost:8080/"
        },
        "id": "ze_w-O2Czo7f",
        "outputId": "008df232-cbf6-42fa-a21a-2a140ec96d9f"
      },
      "execution_count": null,
      "outputs": [
        {
          "output_type": "stream",
          "name": "stdout",
          "text": [
            "--2022-03-09 00:02:23--  https://raw.githubusercontent.com/Intelligent-Systems-Phystech/2022-Project-93-1/master/data/LSTM_CNN%20model.pth\n",
            "Resolving raw.githubusercontent.com (raw.githubusercontent.com)... 185.199.108.133, 185.199.109.133, 185.199.110.133, ...\n",
            "Connecting to raw.githubusercontent.com (raw.githubusercontent.com)|185.199.108.133|:443... connected.\n",
            "HTTP request sent, awaiting response... 200 OK\n",
            "Length: 1250174 (1.2M) [application/octet-stream]\n",
            "Saving to: ‘LSTM_CNN model.pth’\n",
            "\n",
            "LSTM_CNN model.pth  100%[===================>]   1.19M  --.-KB/s    in 0.07s   \n",
            "\n",
            "2022-03-09 00:02:23 (17.4 MB/s) - ‘LSTM_CNN model.pth’ saved [1250174/1250174]\n",
            "\n"
          ]
        }
      ]
    },
    {
      "cell_type": "code",
      "source": [
        "#load model if necessary\n",
        "best_model = torch.load('LSTM_CNN model.pth')"
      ],
      "metadata": {
        "id": "vib3YFOPoBZ1"
      },
      "execution_count": null,
      "outputs": []
    },
    {
      "cell_type": "markdown",
      "source": [
        "#Model predictions"
      ],
      "metadata": {
        "id": "6ZM75EvwdkdW"
      }
    },
    {
      "cell_type": "code",
      "source": [
        "#draw only with errors from training\n",
        "plt.figure(figsize =(10,8))\n",
        "plt.plot(errors['train'], label = 'train')\n",
        "plt.plot(errors['test'], label = 'test')\n",
        "plt.xlabel('iteration')\n",
        "plt.ylabel('MSE error')\n",
        "plt.title('LSTM-CNN fitting rate')\n",
        "plt.legend()\n",
        "plt.grid()\n",
        "plt.show()"
      ],
      "metadata": {
        "colab": {
          "base_uri": "https://localhost:8080/",
          "height": 550
        },
        "id": "dvKvTt3NeQeO",
        "outputId": "4e2c6a0b-13d5-456e-80f7-b838e48903c9"
      },
      "execution_count": null,
      "outputs": [
        {
          "output_type": "display_data",
          "data": {
            "image/png": "[encoded data removed]",
            "text/plain": [
              "<Figure size 720x576 with 1 Axes>"
            ]
          },
          "metadata": {
            "needs_background": "light"
          }
        }
      ]
    },
    {
      "cell_type": "markdown",
      "source": [
        "Depict predictions and originals"
      ],
      "metadata": {
        "id": "xTH7quqfnFpG"
      }
    },
    {
      "cell_type": "code",
      "source": [
        "N = 4\n",
        "for i in range(N):\n",
        "    index = np.random.randint(200,210)\n",
        "    y = best_model(torch.Tensor(X_test[index:index+1,:,:,:]).to(DEVICE))\n",
        "    y = y.cpu().detach().numpy().squeeze()\n",
        "\n",
        "    plt.figure(figsize = (15,10))\n",
        "    plt.subplot(N,2,2*i+1)\n",
        "    plt.imshow(y[2])\n",
        "    plt.title('Predicted')\n",
        "    plt.axis('off')\n",
        "    plt.subplot(N,2,2*i+2)\n",
        "    plt.imshow(y_test[index][2])\n",
        "    plt.title('Original')\n",
        "    plt.axis('off')\n",
        "    plt.show()"
      ],
      "metadata": {
        "colab": {
          "base_uri": "https://localhost:8080/",
          "height": 256
        },
        "id": "xQMNBlA2VCH-",
        "outputId": "0d6eb618-d405-4ab0-c8bd-8db42eeabbcd"
      },
      "execution_count": null,
      "outputs": [
        {
          "output_type": "stream",
          "name": "stderr",
          "text": [
            "/usr/local/lib/python3.7/dist-packages/torch/nn/functional.py:3635: UserWarning: Default upsampling behavior when mode=bilinear is changed to align_corners=False since 0.4.0. Please specify align_corners=True if the old behavior is desired. See the documentation of nn.Upsample for details.\n",
            "  \"See the documentation of nn.Upsample for details.\".format(mode)\n"
          ]
        },
        {
          "output_type": "display_data",
          "data": {
            "image/png": "[encoded data removed]",
            "text/plain": [
              "<Figure size 1080x720 with 2 Axes>"
            ]
          },
          "metadata": {
            "needs_background": "light"
          }
        }
      ]
    }
  ]
}